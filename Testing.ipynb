{
 "cells": [
  {
   "cell_type": "code",
   "execution_count": 7,
   "id": "dc1f98e9",
   "metadata": {},
   "outputs": [],
   "source": [
    "import os\n",
    "import csv\n",
    "import matplotlib.pyplot as plt\n",
    "from mpl_toolkits.mplot3d import Axes3D\n",
    "import numpy as np"
   ]
  },
  {
   "cell_type": "code",
   "execution_count": 73,
   "id": "f21aded7",
   "metadata": {},
   "outputs": [],
   "source": [
    "def read_particle_positions(filename):\n",
    "    positions = []\n",
    "    with open(filename, 'r') as csvfile:\n",
    "        csvreader = csv.reader(csvfile)\n",
    "        next(csvreader)  # Skip header row\n",
    "        for row in csvreader:\n",
    "            positions.append([float(row[0]), float(row[1]), float(row[2])])\n",
    "    return positions"
   ]
  },
  {
   "cell_type": "code",
   "execution_count": 80,
   "id": "e4c03802",
   "metadata": {},
   "outputs": [],
   "source": [
    "directory = '.'  # Directory containing CSV files\n",
    "files = sorted([f for f in os.listdir(directory) if f.startswith('particle_positions')])\n",
    "\n",
    "Nbody = 15\n",
    "Ndim = 3\n",
    "Nstep = 25\n",
    "positions = np.empty((Nbody,Ndim,Nstep))\n",
    "\n",
    "for index, file in enumerate(files):\n",
    "    positions[:,:,index] = read_particle_positions(os.path.join(directory, file))"
   ]
  },
  {
   "cell_type": "code",
   "execution_count": null,
   "id": "c34678db-5769-4960-b164-98c8fbb5968f",
   "metadata": {},
   "outputs": [],
   "source": [
    "import matplotlib.pyplot as plt\n",
    "from matplotlib.animation import FuncAnimation\n",
    "from IPython import display \n",
    "\n",
    "fig, ax = plt.subplots()\n",
    "\n",
    "def animate(i):\n",
    "    ax.clear()\n",
    "    for index in range(Nbody):\n",
    "        pos = positions[index,:,i]\n",
    "        ax.scatter(pos[0], pos[1], marker='o')\n",
    "\n",
    "\n",
    "ani = FuncAnimation(fig, animate, frames=Nstep, interval=20, repeat=False)\n",
    "video = ani.to_html5_video()\n",
    "html = display.HTML(video)\n",
    "display.display(html)\n",
    "plt.close()"
   ]
  },
  {
   "cell_type": "code",
   "execution_count": null,
   "id": "97dcac36",
   "metadata": {},
   "outputs": [],
   "source": []
  }
 ],
 "metadata": {
  "kernelspec": {
   "display_name": "Python 3 (ipykernel)",
   "language": "python",
   "name": "python3"
  },
  "language_info": {
   "codemirror_mode": {
    "name": "ipython",
    "version": 3
   },
   "file_extension": ".py",
   "mimetype": "text/x-python",
   "name": "python",
   "nbconvert_exporter": "python",
   "pygments_lexer": "ipython3",
   "version": "3.11.5"
  }
 },
 "nbformat": 4,
 "nbformat_minor": 5
}
